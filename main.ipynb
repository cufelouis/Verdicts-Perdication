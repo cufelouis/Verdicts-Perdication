{
 "cells": [
  {
   "cell_type": "markdown",
   "metadata": {},
   "source": [
    "## Sample Verdicts Analysis\n",
    "##### Version: 1.0\n",
    "##### Date: 06/12/2019"
   ]
  },
  {
   "cell_type": "code",
   "execution_count": 1,
   "metadata": {
    "scrolled": true
   },
   "outputs": [
    {
     "name": "stderr",
     "output_type": "stream",
     "text": [
      "/usr/local/lib/python3.7/site-packages/fuzzywuzzy/fuzz.py:11: UserWarning: Using slow pure-python SequenceMatcher. Install python-Levenshtein to remove this warning\n",
      "  warnings.warn('Using slow pure-python SequenceMatcher. Install python-Levenshtein to remove this warning')\n"
     ]
    }
   ],
   "source": [
    "import numpy as np\n",
    "import pandas as pd\n",
    "import matplotlib.pyplot as plt\n",
    "import math\n",
    "import re\n",
    "import torch\n",
    "import difflib\n",
    "import thulac\n",
    "import time\n",
    "import threading\n",
    "import queue\n",
    "import json\n",
    "from copy import copy\n",
    "from fuzzywuzzy import fuzz\n",
    "import mysql.connector\n",
    "from mysql.connector import Error"
   ]
  },
  {
   "cell_type": "markdown",
   "metadata": {},
   "source": [
    "#### Load data from mySql database"
   ]
  },
  {
   "cell_type": "code",
   "execution_count": 2,
   "metadata": {},
   "outputs": [],
   "source": [
    "try:\n",
    "    connection = mysql.connector.connect(host ='localhost', database = 'Judgements', user = 'root', password = '123456')\n",
    "    # modify your feeding dataset by modifying the sql query below\n",
    "    sql_select_query = \"SELECT * FROM `2015n` WHERE `案件类型`= 2 AND `审判程序`='一审' LIMIT 100000;\"\n",
    "    cursor = connection.cursor()\n",
    "    cursor.execute(sql_select_query)\n",
    "    records = cursor.fetchall()\n",
    "    print(\"Total number of rows is \", cursor.rowcount)\n",
    "    dataframe = pd.DataFrame(records)\n",
    "except Error as e:\n",
    "    print(\"Error reading data from MySQL table\", e)\n",
    "finally:\n",
    "    if (connection.is_connected()):\n",
    "        connection.close()\n",
    "        cursor.close()\n",
    "        print(\"MySQL connection is closed.\")"
   ]
  },
  {
   "cell_type": "markdown",
   "metadata": {},
   "source": [
    "We take 判决书 as an example"
   ]
  },
  {
   "cell_type": "code",
   "execution_count": 3,
   "metadata": {},
   "outputs": [
    {
     "name": "stderr",
     "output_type": "stream",
     "text": [
      "/usr/local/lib/python3.7/site-packages/pandas/core/indexing.py:205: SettingWithCopyWarning: \n",
      "A value is trying to be set on a copy of a slice from a DataFrame\n",
      "\n",
      "See the caveats in the documentation: http://pandas.pydata.org/pandas-docs/stable/user_guide/indexing.html#returning-a-view-versus-a-copy\n",
      "  self._setitem_with_indexer(indexer, value)\n"
     ]
    }
   ],
   "source": [
    "for i in range(len(dataframe['正文'])):\n",
    "    if type(dataframe['正文'].iloc[i]) != type('test'):\n",
    "        dataframe['正文'].iloc[i] = '原始数据缺乏'\n",
    "\n",
    "doc_type_list = [u'判决书', u'裁定书', u'调解书', u'决定书', u'通知书', u'令']\n",
    "def check_type(input_title):\n",
    "    for i in range(len(doc_type_list)):\n",
    "        if doc_type_list[i] in input_title:\n",
    "            return int(i)\n",
    "\n",
    "dataframe[u'文书类型'] = dataframe[u'案件名称'].apply(lambda x: check_type(x))\n",
    "df = dataframe[dataframe[u'文书类型'] == 0.0]\n",
    "df = df.drop([u'year'], axis=1)\n",
    "df = df.drop([u'文书类型'], axis = 1)\n",
    "df = df.drop([u'公诉机关'], axis = 1)"
   ]
  },
  {
   "cell_type": "markdown",
   "metadata": {},
   "source": [
    "#### Load Courts Information"
   ]
  },
  {
   "cell_type": "code",
   "execution_count": 4,
   "metadata": {},
   "outputs": [],
   "source": [
    "with open('resource/primary_courts.csv') as datafile:\n",
    "    data = pd.read_csv(datafile, encoding = 'utf-8')\n",
    "primary = pd.DataFrame(data)\n",
    "\n",
    "with open('resource/middle_courts.csv') as datafile:\n",
    "    data = pd.read_csv(datafile, encoding = 'utf-8')\n",
    "middle = pd.DataFrame(data)\n",
    "\n",
    "with open('resource/supreme_courts.csv') as datafile:\n",
    "    data = pd.read_csv(datafile, encoding = 'utf-8')\n",
    "supreme = pd.DataFrame(data)\n",
    "\n",
    "supreme = supreme.drop('Unnamed: 0', axis = 1)\n",
    "middle = middle.drop('Unnamed: 0', axis = 1)\n",
    "primary = primary.drop('Unnamed: 0', axis = 1)"
   ]
  },
  {
   "cell_type": "markdown",
   "metadata": {},
   "source": [
    "#### Load Region Code"
   ]
  },
  {
   "cell_type": "code",
   "execution_count": 5,
   "metadata": {},
   "outputs": [],
   "source": [
    "with open('resource/region_code.csv') as datafile:\n",
    "    data = pd.read_csv(datafile, encoding='utf-8')\n",
    "region_code = pd.DataFrame(data)\n",
    "region_code = region_code.drop('Unnamed: 0', axis=1)"
   ]
  },
  {
   "cell_type": "markdown",
   "metadata": {},
   "source": [
    "<br/><br/>"
   ]
  },
  {
   "cell_type": "markdown",
   "metadata": {},
   "source": [
    "#### Parties Extraction"
   ]
  },
  {
   "cell_type": "code",
   "execution_count": 6,
   "metadata": {},
   "outputs": [],
   "source": [
    "def Parties_Extraction(x, party):\n",
    "    if(party== '公诉人'):\n",
    "        res_GSJG = re.search(r'.*法院', x)\n",
    "        if(res_GSJG==None):\n",
    "            return '抱歉，无法查找'\n",
    "        else:\n",
    "            return res_GSJG.group().replace('法院','检察院',1)\n",
    "\n",
    "    if (party == '原告'):\n",
    "        res_YG = re.search(r'原告.*?。|自诉人.*?。|申请执行人.*?。|申请人.*?。|执行人.*?。|审原告.*。|起诉人.*?。|原告:.*?。|上诉人.*?。|执行人.*。', x)\n",
    "        if (res_YG == None):\n",
    "            return '抱歉，无法识别原告信息或不存在原告'\n",
    "        else:\n",
    "            return res_YG.group()\n",
    "  \n",
    "    if (party == '被告'):\n",
    "        res_BG=re.findall(r'被告人.*?。|被告.*?。|犯罪嫌疑人.*?。|罪犯.*?。|嫌疑人.*?。|被申请人.*?。|被执行人.*?。|审被告.*?。|被告:.*?。|被申请执行人.*?。|被拘留人.*?。|被上诉人.*?。|.*被执行人.*?。', x)\n",
    "        if (len(res_BG) == 0):\n",
    "            return '抱歉，无法识别被告信息'\n",
    "        elif(len(res_BG)>1):\n",
    "            #识别是否多个匹配到的被告都是同一个人\n",
    "            t_0 = re.search(r'被告人|被告|犯罪嫌疑人|罪犯|嫌疑人|被申请人|被执行人|审被告|被告:|被申请执行人|被拘留人|被上诉人|审被告人', res_BG[0]).group()\n",
    "            t_1 = re.search(r'被告人|被告|犯罪嫌疑人|罪犯|嫌疑人|被申请人|被执行人|审被告|被告:|被申请执行人|被拘留人|被上诉人|审被告人', res_BG[1]).group()\n",
    "            tt_0= res_BG[0][len(t_0):len(t_0) + 2]\n",
    "            tt_1= res_BG[1][len(t_1):len(t_1) + 2] #用名字or称呼的前两个字来区分是否是同一目标\n",
    "            if(tt_0==tt_1):\n",
    "                return res_BG[0]\n",
    "            else:\n",
    "                return \" \".join(str(i) for i in res_BG)\n",
    "        else:\n",
    "            return res_BG[0]\n",
    "\n",
    "    if (party == '律师'):\n",
    "        res_LS=re.search(r'辩护律师.*。|辩护人.*。|代理人.*。|诉讼代理人.*。|.*律师|代理律师.*|律师.*', x)\n",
    "        if (res_LS == None):\n",
    "            return '抱歉，无法识别律师信息或案件未含有律师'\n",
    "        else:\n",
    "            return res_LS.group()\n",
    "\n",
    "    if (party == '委托人'):\n",
    "        res_WT=re.search(r'.*委托.*。|委托人.*|委托.*', x)\n",
    "        if (res_WT == None):\n",
    "            return '抱歉，无法识别委托人信息或案件未含有委托人'\n",
    "        else:\n",
    "            return res_WT.group()\n",
    "\n",
    "    if (party == '审判人员'):\n",
    "        res_SP=re.findall(r'审判员.*|陪审员.*|书记员.*', x)\n",
    "        if (res_SP == None):\n",
    "            return '抱歉，无法查找'\n",
    "        else:\n",
    "            return \" \".join(str(i) for i in res_SP)\n",
    "\n",
    "\n",
    "def MoreinExtraction(df):\n",
    "    #df['公诉人']=df['正文'].apply(lambda x: Parties_Extraction(x,'公诉人'))\n",
    "    df['原告']=df['正文'].apply(lambda x: Parties_Extraction(x,'原告'))\n",
    "    df['被告']=df['正文'].apply(lambda x: Parties_Extraction(x,'被告'))\n",
    "    df['律师']=df['正文'].apply(lambda x: Parties_Extraction(x,'律师'))\n",
    "    df['委托人']=df['正文'].apply(lambda x: Parties_Extraction(x,'委托人'))\n",
    "    #df['审判人员']=df['正文'].apply(lambda x: Parties_Extraction(x,'审判人员'))\n",
    "    \n",
    "    return df"
   ]
  },
  {
   "cell_type": "code",
   "execution_count": 7,
   "metadata": {},
   "outputs": [],
   "source": [
    "def divide_dataframe(dataframe):\n",
    "    return np.array_split(dataframe, 4)"
   ]
  },
  {
   "cell_type": "code",
   "execution_count": 8,
   "metadata": {},
   "outputs": [],
   "source": [
    "class extract_parties_threads(threading.Thread):\n",
    "    def __init__(self, threadID, name, df):\n",
    "        threading.Thread.__init__(self)\n",
    "        self.threadID = threadID\n",
    "        self.name = name\n",
    "        self.df = df\n",
    "    \n",
    "    def run(self):\n",
    "        #print (\"Starting \" + self.name)\n",
    "        # Get lock to synchronize threads\n",
    "        threadLock.acquire()\n",
    "        print(threading.activeCount())\n",
    "        MoreinExtraction(self.df)\n",
    "        # Free lock to release next thread\n",
    "        threadLock.release()\n",
    "        \n",
    "threadLock = threading.Lock()\n",
    "threads = []"
   ]
  },
  {
   "cell_type": "code",
   "execution_count": 9,
   "metadata": {
    "scrolled": false
   },
   "outputs": [
    {
     "name": "stdout",
     "output_type": "stream",
     "text": [
      "6\n",
      "8\n",
      "7\n",
      "6\n",
      "Exiting Main Thread\n"
     ]
    }
   ],
   "source": [
    "input_dataframe_list = divide_dataframe(df)\n",
    "try:\n",
    "    thread1 = extract_parties_threads(1, \"thread-1\", input_dataframe_list[0])\n",
    "    thread2 = extract_parties_threads(2, \"thread-2\", input_dataframe_list[1])\n",
    "    thread3 = extract_parties_threads(3, \"thread-3\", input_dataframe_list[2])\n",
    "    thread4 = extract_parties_threads(4, \"thread-4\", input_dataframe_list[3])\n",
    "    \n",
    "    # Start new Threads\n",
    "    thread1.start()\n",
    "    thread2.start()\n",
    "    thread3.start()\n",
    "    thread4.start()\n",
    "\n",
    "    # Add threads to thread list\n",
    "    threads.append(thread1)\n",
    "    threads.append(thread2)\n",
    "    threads.append(thread3)\n",
    "    threads.append(thread4)\n",
    "    \n",
    "    # Wait for all threads to complete\n",
    "    for t in threads:\n",
    "        t.join()\n",
    "    print (\"Exiting Main Thread\")\n",
    "except:\n",
    "    print(\"Error: unable to start thread\")\n",
    "finally:\n",
    "    df = input_dataframe_list[0].append(input_dataframe_list[1]).append(input_dataframe_list[2]).append(input_dataframe_list[3])"
   ]
  },
  {
   "cell_type": "markdown",
   "metadata": {},
   "source": [
    "<br/><br/>\n",
    "#### Courts Stuff Extraction"
   ]
  },
  {
   "cell_type": "code",
   "execution_count": 10,
   "metadata": {},
   "outputs": [
    {
     "name": "stdout",
     "output_type": "stream",
     "text": [
      "Model loaded succeed\n"
     ]
    }
   ],
   "source": [
    "model1 = thulac.thulac()"
   ]
  },
  {
   "cell_type": "markdown",
   "metadata": {
    "scrolled": true
   },
   "source": [
    "##### Prime Judge (审判长)"
   ]
  },
  {
   "cell_type": "code",
   "execution_count": 11,
   "metadata": {},
   "outputs": [],
   "source": [
    "def find_pj(input_string, prime_judge_list):\n",
    "    prime_judge_list.append(re.findall(r'审判长.*|审 判 长.*', input_string))\n",
    "\n",
    "    \n",
    "def extract_prime_judge(list1):\n",
    "    prime_judge_list = []\n",
    "    list1['正文'].apply(lambda x: find_pj(x, prime_judge_list))\n",
    "    # Extract Prime Judge Information\n",
    "    for i in range(len(prime_judge_list)):\n",
    "        if len(prime_judge_list[i]) == 2:\n",
    "            w_wo_blank = prime_judge_list[i][1].replace(' ', '').replace('，', '').replace('：','')\n",
    "        elif len(prime_judge_list[i]) == 1:\n",
    "            w_wo_blank = prime_judge_list[i][0].replace(' ', '').replace('，', '').replace('：','')\n",
    "        else:\n",
    "            list1['审判长'].iloc[i] = '无有效信息'\n",
    "            continue\n",
    "        mark = w_wo_blank.find('审判长') + 3\n",
    "        pre_seg = w_wo_blank[mark:len(w_wo_blank)-1]\n",
    "        if len(pre_seg) > 4:\n",
    "            post_seg_list = model1.cut(pre_seg, text=False)\n",
    "            for j in post_seg_list:\n",
    "                if j[1] == 'np':\n",
    "                    pre_seg = j[0]\n",
    "\n",
    "\n",
    "        list1['审判长'].iloc[i] = pre_seg\n",
    "    return list1"
   ]
  },
  {
   "cell_type": "code",
   "execution_count": 12,
   "metadata": {},
   "outputs": [],
   "source": [
    "class extract_pj_threads(threading.Thread):\n",
    "    def __init__(self, threadID, name, df):\n",
    "        threading.Thread.__init__(self)\n",
    "        self.threadID = threadID\n",
    "        self.name = name\n",
    "        self.df = df\n",
    "    \n",
    "    def run(self):\n",
    "        print (\"Starting \" + self.name)\n",
    "        # Get lock to synchronize threads\n",
    "        threadLock.acquire()\n",
    "        extract_prime_judge(self.df)\n",
    "        # Free lock to release next thread\n",
    "        threadLock.release()\n",
    "    \n",
    "threadLock = threading.Lock()\n",
    "threads = []"
   ]
  },
  {
   "cell_type": "code",
   "execution_count": 13,
   "metadata": {
    "scrolled": true
   },
   "outputs": [
    {
     "name": "stdout",
     "output_type": "stream",
     "text": [
      "Starting thread-1\n",
      "Starting thread-2Starting thread-3\n",
      "\n",
      "Starting thread-4\n",
      "Exiting Main Thread\n"
     ]
    }
   ],
   "source": [
    "df['审判长'] = 'default value'\n",
    "input_dataframe_list = divide_dataframe(df)\n",
    "\n",
    "try:\n",
    "    thread1 = extract_pj_threads(1, \"thread-1\", input_dataframe_list[0])\n",
    "    thread2 = extract_pj_threads(2, \"thread-2\", input_dataframe_list[1]) \n",
    "    thread3 = extract_pj_threads(3, \"thread-3\", input_dataframe_list[2])\n",
    "    thread4 = extract_pj_threads(4, \"thread-4\", input_dataframe_list[3])\n",
    "    \n",
    "    # Start new Threads\n",
    "    thread1.start()\n",
    "    thread2.start()\n",
    "    thread3.start()\n",
    "    thread4.start()\n",
    "\n",
    "    # Add threads to thread list\n",
    "    threads.append(thread1)\n",
    "    threads.append(thread2)\n",
    "    threads.append(thread3)\n",
    "    threads.append(thread4)\n",
    "    \n",
    "    # Wait for all threads to complete\n",
    "    for t in threads:\n",
    "        t.join()\n",
    "    print (\"Exiting Main Thread\")\n",
    "except:\n",
    "    print(\"Error: unable to start thread\")\n",
    "finally:\n",
    "    df = input_dataframe_list[0].append(input_dataframe_list[1]).append(input_dataframe_list[2]).append(input_dataframe_list[3])"
   ]
  },
  {
   "cell_type": "markdown",
   "metadata": {},
   "source": [
    "##### Judge(审判员)"
   ]
  },
  {
   "cell_type": "code",
   "execution_count": 14,
   "metadata": {},
   "outputs": [],
   "source": [
    "def extract_judge_helper(input_string):\n",
    "    mark = input_string.find('审判员') + 3\n",
    "    pre_seg = input_string[mark:]\n",
    "    if len(pre_seg) > 4:\n",
    "        post_seg_list = model1.cut(pre_seg, text=False)\n",
    "        for j in post_seg_list:\n",
    "            if j[1] == 'np':\n",
    "                pre_seg = j[0]\n",
    "    return pre_seg\n",
    "\n",
    "def find_judge(input_string, judge_list):\n",
    "    judge_list.append(re.findall(r'审判员.*|审 判 员.*', input_string))\n",
    "    \n",
    "def extract_judges(list1):\n",
    "    judge_list = []\n",
    "    list1['正文'].apply(lambda x: find_judge(x, judge_list))\n",
    "    for i in range(len(judge_list)):\n",
    "        if len(judge_list[i]) == 2 and len(judge_list[i][0]) > 15:\n",
    "            w_wo_blank = judge_list[i][1].replace(' ', '').replace('，', '').replace('：','').replace('\\\\', '')\n",
    "            judge_result = [extract_judge_helper(w_wo_blank)]\n",
    "        elif len(judge_list[i]) == 1:\n",
    "            w_wo_blank = judge_list[i][0].replace(' ', '').replace('，', '').replace('：','').replace('\\\\', '')\n",
    "            judge_result = [extract_judge_helper(w_wo_blank)]\n",
    "        elif len(judge_list[i]) == 2 and len(judge_list[i][0]) <= 15:\n",
    "            w_wo_blank = [judge_list[i][0].replace(' ', '').replace('，', '').replace('：',''), judge_list[i][1].replace(' ', '').replace('，', '').replace('：','')]\n",
    "            judge_result = []\n",
    "            judge_result.append(extract_judge_helper(w_wo_blank[0]))\n",
    "            judge_result.append(extract_judge_helper(w_wo_blank[1]))\n",
    "        else:\n",
    "            list1['审判员'].iloc[i] = '无有效信息'\n",
    "            continue\n",
    "        list1['审判员'].iloc[i] = judge_result\n",
    "    return list1"
   ]
  },
  {
   "cell_type": "code",
   "execution_count": 15,
   "metadata": {},
   "outputs": [],
   "source": [
    "class extract_judges_threads(threading.Thread):\n",
    "    def __init__(self, threadID, name, df):\n",
    "        threading.Thread.__init__(self)\n",
    "        self.threadID = threadID\n",
    "        self.name = name\n",
    "        self.df = df\n",
    "    \n",
    "    def run(self):\n",
    "        print (\"Starting \" + self.name)\n",
    "        # Get lock to synchronize threads\n",
    "        threadLock.acquire()\n",
    "        extract_judges(self.df)\n",
    "        # Free lock to release next thread\n",
    "        threadLock.release()\n",
    "    \n",
    "threadLock = threading.Lock()\n",
    "threads = []"
   ]
  },
  {
   "cell_type": "code",
   "execution_count": 16,
   "metadata": {},
   "outputs": [
    {
     "name": "stdout",
     "output_type": "stream",
     "text": [
      "Starting thread-1Starting thread-2\n",
      "\n",
      "Starting thread-3\n",
      "Starting thread-4\n",
      "Exiting Main Thread\n"
     ]
    }
   ],
   "source": [
    "df['审判员'] = 'default value'\n",
    "input_dataframe_list = divide_dataframe(df)\n",
    "\n",
    "try:\n",
    "    thread1 = extract_judges_threads(1, \"thread-1\", input_dataframe_list[0])\n",
    "    thread2 = extract_judges_threads(2, \"thread-2\", input_dataframe_list[1]) \n",
    "    thread3 = extract_judges_threads(3, \"thread-3\", input_dataframe_list[2])\n",
    "    thread4 = extract_judges_threads(4, \"thread-4\", input_dataframe_list[3])\n",
    "    \n",
    "    # Start new Threads\n",
    "    thread1.start()\n",
    "    thread2.start()\n",
    "    thread3.start()\n",
    "    thread4.start()\n",
    "\n",
    "    # Add threads to thread list\n",
    "    threads.append(thread1)\n",
    "    threads.append(thread2)\n",
    "    threads.append(thread3)\n",
    "    threads.append(thread4)\n",
    "    \n",
    "    # Wait for all threads to complete\n",
    "    for t in threads:\n",
    "        t.join()\n",
    "    print (\"Exiting Main Thread\")\n",
    "except:\n",
    "    print(\"Error: unable to start thread\")\n",
    "finally:\n",
    "    df = input_dataframe_list[0].append(input_dataframe_list[1]).append(input_dataframe_list[2]).append(input_dataframe_list[3])"
   ]
  },
  {
   "cell_type": "markdown",
   "metadata": {},
   "source": [
    "##### Clerk(书记员)"
   ]
  },
  {
   "cell_type": "code",
   "execution_count": 17,
   "metadata": {},
   "outputs": [],
   "source": [
    "def extract_clerk_helper(input_string):\n",
    "    mark = input_string.find('书记员') + 3\n",
    "    pre_seg = input_string[mark:]\n",
    "    if len(pre_seg) > 4:\n",
    "        post_seg_list = model1.cut(pre_seg, text=False)\n",
    "        for j in post_seg_list:\n",
    "            if j[1] == 'np':\n",
    "                pre_seg = j[0]\n",
    "    return pre_seg\n",
    "\n",
    "def find_clerk(input_string, clerk_list):\n",
    "    clerk_list.append(re.findall(r'书记员.*|书 记 员.*', input_string))\n",
    "\n",
    "def extract_clerk(list1):\n",
    "    clerk_list = []\n",
    "    list1['正文'].apply(lambda x: find_clerk(x, clerk_list))\n",
    "    for i in range(len(clerk_list)):\n",
    "        if len(clerk_list[i]) == 2 and len(clerk_list[i][0]) > 15:\n",
    "            w_wo_blank = clerk_list[i][1].replace(' ', '').replace('，', '').replace('：','').replace('\\\\', '')\n",
    "            judge_result = [extract_clerk_helper(w_wo_blank)]\n",
    "        elif len(clerk_list[i]) == 1:\n",
    "            w_wo_blank = clerk_list[i][0].replace(' ', '').replace('，', '').replace('：','').replace('\\\\', '')\n",
    "            judge_result = [extract_clerk_helper(w_wo_blank)]\n",
    "        elif len(clerk_list[i]) == 2 and len(clerk_list[i][0]) <= 15:\n",
    "            w_wo_blank = [clerk_list[i][0].replace(' ', '').replace('，', '').replace('：',''), clerk_list[i][1].replace(' ', '').replace('，', '').replace('：','')]\n",
    "            clerk_result = []\n",
    "            clerk_result.append(extract_clerk_helper(w_wo_blank[0]))\n",
    "            clerk_result.append(extract_clerk_helper(w_wo_blank[1]))\n",
    "        else:\n",
    "            list1['书记员'].iloc[i] = '无有效信息'\n",
    "            continue\n",
    "        list1['书记员'].iloc[i] = judge_result\n",
    "    return list1"
   ]
  },
  {
   "cell_type": "code",
   "execution_count": 18,
   "metadata": {},
   "outputs": [],
   "source": [
    "class extract_clerks_threads(threading.Thread):\n",
    "    def __init__(self, threadID, name, df):\n",
    "        threading.Thread.__init__(self)\n",
    "        self.threadID = threadID\n",
    "        self.name = name\n",
    "        self.df = df\n",
    "    \n",
    "    def run(self):\n",
    "        print (\"Starting \" + self.name)\n",
    "        # Get lock to synchronize threads\n",
    "        threadLock.acquire()\n",
    "        extract_clerk(self.df)\n",
    "        # Free lock to release next thread\n",
    "        threadLock.release()\n",
    "    \n",
    "threadLock = threading.Lock()\n",
    "threads = []"
   ]
  },
  {
   "cell_type": "code",
   "execution_count": 19,
   "metadata": {},
   "outputs": [
    {
     "name": "stdout",
     "output_type": "stream",
     "text": [
      "Starting thread-1\n",
      "Starting thread-2\n",
      "Starting thread-3\n",
      "Starting thread-4\n",
      "Exiting Main Thread\n"
     ]
    }
   ],
   "source": [
    "df['书记员'] = 'default value'\n",
    "input_dataframe_list = divide_dataframe(df)\n",
    "\n",
    "try:\n",
    "    thread1 = extract_clerks_threads(1, \"thread-1\", input_dataframe_list[0])\n",
    "    thread2 = extract_clerks_threads(2, \"thread-2\", input_dataframe_list[1]) \n",
    "    thread3 = extract_clerks_threads(3, \"thread-3\", input_dataframe_list[2])\n",
    "    thread4 = extract_clerks_threads(4, \"thread-4\", input_dataframe_list[3])\n",
    "    \n",
    "    # Start new Threads\n",
    "    thread1.start()\n",
    "    thread2.start()\n",
    "    thread3.start()\n",
    "    thread4.start()\n",
    "\n",
    "    # Add threads to thread list\n",
    "    threads.append(thread1)\n",
    "    threads.append(thread2)\n",
    "    threads.append(thread3)\n",
    "    threads.append(thread4)\n",
    "    \n",
    "    # Wait for all threads to complete\n",
    "    for t in threads:\n",
    "        t.join()\n",
    "    print (\"Exiting Main Thread\")\n",
    "except:\n",
    "    print(\"Error: unable to start thread\")\n",
    "finally:\n",
    "    df = input_dataframe_list[0].append(input_dataframe_list[1]).append(input_dataframe_list[2]).append(input_dataframe_list[3])"
   ]
  },
  {
   "cell_type": "markdown",
   "metadata": {},
   "source": [
    "##### Jury(陪审员)"
   ]
  },
  {
   "cell_type": "code",
   "execution_count": 20,
   "metadata": {},
   "outputs": [],
   "source": [
    "def extract_jury_helper(input_string):\n",
    "    mark = input_string.find('陪审员') + 3\n",
    "    pre_seg = input_string[mark:]\n",
    "    if len(pre_seg) > 4:\n",
    "        post_seg_list = model1.cut(pre_seg, text=False)\n",
    "        for j in post_seg_list:\n",
    "            if j[1] == 'np':\n",
    "                pre_seg = j[0]\n",
    "    return pre_seg\n",
    "\n",
    "def find_jury(input_string, jury_list):\n",
    "    jury_list.append(re.findall(r'陪审员.*|陪 审 员.*', input_string))\n",
    "\n",
    "def extract_jury(list1):\n",
    "    jury_list = []\n",
    "    list1['正文'].apply(lambda x: find_jury(x, jury_list))\n",
    "    for i in range(len(jury_list)):\n",
    "        if len(jury_list[i]) == 0:\n",
    "            list1['陪审员'].iloc[i] = '无有效信息'\n",
    "        elif len(jury_list[i]) == 1 and len(jury_list[i][0]) > 15:\n",
    "            result_list = model1.cut(jury_list[i][0], text=False)\n",
    "            for j in result_list:\n",
    "                if j[1] == 'np':\n",
    "                    list1['陪审员'].iloc[i] = [j[0]]\n",
    "                    break\n",
    "        else:\n",
    "            jury_result = []\n",
    "            for j in jury_list[i]:\n",
    "                wwb = j.replace(' ', '').replace('：', '').replace('\\\\', '')\n",
    "                jury_result.append(extract_jury_helper(wwb))\n",
    "            list1['陪审员'].iloc[i] = jury_result\n",
    "    return list1"
   ]
  },
  {
   "cell_type": "code",
   "execution_count": 21,
   "metadata": {},
   "outputs": [],
   "source": [
    "class extract_juries_threads(threading.Thread):\n",
    "    def __init__(self, threadID, name, df):\n",
    "        threading.Thread.__init__(self)\n",
    "        self.threadID = threadID\n",
    "        self.name = name\n",
    "        self.df = df\n",
    "    \n",
    "    def run(self):\n",
    "        print (\"Starting \" + self.name)\n",
    "        # Get lock to synchronize threads\n",
    "        threadLock.acquire()\n",
    "        extract_jury(self.df)\n",
    "        # Free lock to release next thread\n",
    "        threadLock.release()\n",
    "    \n",
    "threadLock = threading.Lock()\n",
    "threads = []"
   ]
  },
  {
   "cell_type": "code",
   "execution_count": 22,
   "metadata": {},
   "outputs": [
    {
     "name": "stdout",
     "output_type": "stream",
     "text": [
      "Starting thread-1\n",
      "Starting thread-2\n",
      "Starting thread-3\n",
      "Starting thread-4\n",
      "Exiting Main Thread\n"
     ]
    }
   ],
   "source": [
    "df['陪审员'] = 'default value'\n",
    "input_dataframe_list = divide_dataframe(df)\n",
    "\n",
    "try:\n",
    "    thread1 = extract_juries_threads(1, \"thread-1\", input_dataframe_list[0])\n",
    "    thread2 = extract_juries_threads(2, \"thread-2\", input_dataframe_list[1]) \n",
    "    thread3 = extract_juries_threads(3, \"thread-3\", input_dataframe_list[2])\n",
    "    thread4 = extract_juries_threads(4, \"thread-4\", input_dataframe_list[3])\n",
    "    \n",
    "    # Start new Threads\n",
    "    thread1.start()\n",
    "    thread2.start()\n",
    "    thread3.start()\n",
    "    thread4.start()\n",
    "\n",
    "    # Add threads to thread list\n",
    "    threads.append(thread1)\n",
    "    threads.append(thread2)\n",
    "    threads.append(thread3)\n",
    "    threads.append(thread4)\n",
    "    \n",
    "    # Wait for all threads to complete\n",
    "    for t in threads:\n",
    "        t.join()\n",
    "    print (\"Exiting Main Thread\")\n",
    "except:\n",
    "    print(\"Error: unable to start thread\")\n",
    "finally:\n",
    "    df = input_dataframe_list[0].append(input_dataframe_list[1]).append(input_dataframe_list[2]).append(input_dataframe_list[3])"
   ]
  },
  {
   "cell_type": "markdown",
   "metadata": {},
   "source": [
    "<br/><br/>\n",
    "#### Courts Lists"
   ]
  },
  {
   "cell_type": "code",
   "execution_count": 23,
   "metadata": {},
   "outputs": [],
   "source": [
    "courts_list = primary.append(middle, ignore_index = True).append(supreme, ignore_index = True)"
   ]
  },
  {
   "cell_type": "code",
   "execution_count": 24,
   "metadata": {},
   "outputs": [
    {
     "data": {
      "text/plain": [
       "3530"
      ]
     },
     "execution_count": 24,
     "metadata": {},
     "output_type": "execute_result"
    }
   ],
   "source": [
    "len(courts_list)"
   ]
  },
  {
   "cell_type": "code",
   "execution_count": 25,
   "metadata": {},
   "outputs": [],
   "source": [
    "def court_match(courts):\n",
    "    for i in range(len(courts)):\n",
    "        for j in range(len(courts_list)):\n",
    "            if fuzz.ratio(courts['审理法院'].iloc[i], courts_list['法院名称'].iloc[j]) > 75:\n",
    "                courts['上诉法院'].iloc[i] = courts_list['上诉法院'].iloc[j]\n",
    "                courts['法院等级'].iloc[i] = courts_list['级别'].iloc[j]\n",
    "                break"
   ]
  },
  {
   "cell_type": "code",
   "execution_count": 26,
   "metadata": {},
   "outputs": [],
   "source": [
    "class court_match_threads(threading.Thread):\n",
    "    def __init__(self, threadID, name, df):\n",
    "        threading.Thread.__init__(self)\n",
    "        self.threadID = threadID\n",
    "        self.name = name\n",
    "        self.df = df\n",
    "    \n",
    "    def run(self):\n",
    "        print (\"Starting \" + self.name)\n",
    "        # Get lock to synchronize threads\n",
    "        threadLock.acquire()\n",
    "        court_match(self.df)\n",
    "        # Free lock to release next thread\n",
    "        threadLock.release()\n",
    "    \n",
    "threadLock = threading.Lock()\n",
    "threads = []"
   ]
  },
  {
   "cell_type": "code",
   "execution_count": 27,
   "metadata": {},
   "outputs": [
    {
     "name": "stdout",
     "output_type": "stream",
     "text": [
      "Starting thread-1\n",
      "Starting thread-2\n",
      "Starting thread-3\n",
      "Starting thread-4\n",
      "Exiting Main Thread\n"
     ]
    }
   ],
   "source": [
    "df['上诉法院'] = 'default value'\n",
    "df['法院等级'] = 'default value'\n",
    "input_dataframe_list = divide_dataframe(df)\n",
    "\n",
    "try:\n",
    "    thread1 = court_match_threads(1, \"thread-1\", input_dataframe_list[0])\n",
    "    thread2 = court_match_threads(2, \"thread-2\", input_dataframe_list[1]) \n",
    "    thread3 = court_match_threads(3, \"thread-3\", input_dataframe_list[2])\n",
    "    thread4 = court_match_threads(4, \"thread-4\", input_dataframe_list[3])\n",
    "    \n",
    "    # Start new Threads\n",
    "    thread1.start()\n",
    "    thread2.start()\n",
    "    thread3.start()\n",
    "    thread4.start()\n",
    "\n",
    "    # Add threads to thread list\n",
    "    threads.append(thread1)\n",
    "    threads.append(thread2)\n",
    "    threads.append(thread3)\n",
    "    threads.append(thread4)\n",
    "    \n",
    "    # Wait for all threads to complete\n",
    "    for t in threads:\n",
    "        t.join()\n",
    "    print (\"Exiting Main Thread\")\n",
    "except:\n",
    "    print(\"Error: unable to start thread\")\n",
    "finally:\n",
    "    df = input_dataframe_list[0].append(input_dataframe_list[1]).append(input_dataframe_list[2]).append(input_dataframe_list[3])"
   ]
  },
  {
   "cell_type": "markdown",
   "metadata": {},
   "source": [
    "Follow up work: 匹配案号和地区代码"
   ]
  },
  {
   "cell_type": "code",
   "execution_count": null,
   "metadata": {},
   "outputs": [],
   "source": []
  }
 ],
 "metadata": {
  "kernelspec": {
   "display_name": "Python 3",
   "language": "python",
   "name": "python3"
  },
  "language_info": {
   "codemirror_mode": {
    "name": "ipython",
    "version": 3
   },
   "file_extension": ".py",
   "mimetype": "text/x-python",
   "name": "python",
   "nbconvert_exporter": "python",
   "pygments_lexer": "ipython3",
   "version": "3.7.4"
  }
 },
 "nbformat": 4,
 "nbformat_minor": 2
}
